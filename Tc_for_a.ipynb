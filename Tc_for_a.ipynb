{
 "cells": [
  {
   "cell_type": "code",
   "execution_count": 1,
   "metadata": {},
   "outputs": [],
   "source": [
    "import numpy as np\n",
    "import scipy.integrate as integrate\n",
    "from scipy.special import legendre\n",
    "from scipy.integrate import simpson"
   ]
  },
  {
   "cell_type": "code",
   "execution_count": 2,
   "metadata": {},
   "outputs": [],
   "source": [
    "class AtTemp:\n",
    "    def __init__(self, a, N, omega_0, matsubara, ng2, T):\n",
    "        self.a = a\n",
    "        self.N = N\n",
    "        self.omega_0 = omega_0\n",
    "        self.matsubara = matsubara\n",
    "        self.ng2 = ng2\n",
    "        self.T = T\n",
    "        self.omega = self.omega_matsu()\n",
    "        self.lambda_iso = self.val_lambda()\n",
    "        self.theta = self.theta_array()\n",
    "        self.zz = self.Z()\n",
    "        self.integration = self.phi_integration_simpson()\n",
    "        self.matrix = self.cal_matrix()\n",
    "        self.eigenvalues = self.eigenvalue_prob()\n",
    "        self.largest_eigenvalue = self.max_eigenvalue()\n",
    "\n",
    "\n",
    "    def omega_matsu(self):\n",
    "        omega = np.asarray([(2 * (-(self.matsubara/2) + i) + 1) * np.pi * self.T for i in range(self.matsubara)]) # matsubara frequencies\n",
    "        return omega\n",
    "    \n",
    "    def val_lambda(self):\n",
    "        lambda_iso = np.asarray(\n",
    "            [\n",
    "                [\n",
    "                    2\n",
    "                    * self.omega_0\n",
    "                    * self.ng2\n",
    "                    / (np.square(self.omega[i] - self.omega[j]) + np.square(self.omega_0))\n",
    "                    for j in range(len(self.omega))\n",
    "                ]\n",
    "                for i in range(len(self.omega))\n",
    "            ]\n",
    "        )\n",
    "        return lambda_iso\n",
    "    \n",
    "    def theta_array(self):\n",
    "        theta = np.linspace(0, np.pi, self.matsubara)\n",
    "        return theta\n",
    "    \"\"\"\n",
    "    def Z(self):\n",
    "        X = (self.omega / np.abs(self.omega)) * self.lambda_iso\n",
    "        zz = 1 + (self.T/(8*self.omega)) * (1 + self.a* (legendre(self.N)(np.cos(self.theta))) ) *  4*np.pi * np.sum(X, axis=1)\n",
    "        return zz\n",
    "    \"\"\"\n",
    "    \n",
    "    def Z(self):\n",
    "        sigma_n = np.sum((self.omega / np.abs(self.omega)) * self.lambda_iso, axis=1)\n",
    "        matrix = np.zeros((len(self.theta), len(sigma_n)))\n",
    "        for i in range(len(self.theta)):\n",
    "            legendre_val = legendre(self.N)(np.cos(self.theta[i]))\n",
    "            for j in range(len(sigma_n)):\n",
    "                matrix[i, j] = 1 + (np.pi*self.T/(self.omega[j])) * (1 + self.a * legendre_val) * sigma_n[j]\n",
    "        return matrix\n",
    "    \"\"\"\n",
    "    def phi_integration_simpson(self): \n",
    "        denominator = self.zz\n",
    "        numerator = (1 + self.a * (legendre(self.N)(np.cos(self.theta))) )**2\n",
    "        sub_integrand = np.divide(numerator, denominator)\n",
    "        integrand = np.sin(self.theta) * 2*np.pi * sub_integrand\n",
    "        integration = integrate.simpson(integrand, self.theta)\n",
    "        return integration\n",
    "    \"\"\"\n",
    "    def phi_integration_simpson(self):\n",
    "        Zz = self.zz\n",
    "        integration_list = []\n",
    "        for i in range(Zz.shape[1]):\n",
    "            denominator = Zz[:, i]\n",
    "            numerator = (1 + self.a * (legendre(self.N)(np.cos(self.theta))) )**2 \n",
    "            sub_integrand = np.divide(numerator, denominator) # for this step we know it will work when len(thera) = len(omega). But what when it doesn't?\n",
    "            integrand = np.sin(self.theta) * sub_integrand\n",
    "            integrated_element = integrate.simpson(integrand, self.theta)\n",
    "            integration_list.append(integrated_element)\n",
    "        integration = np.array(integration_list)\n",
    "        return integration   \n",
    "    \n",
    "    def cal_matrix(self):\n",
    "        k_matrix = self.T/8 * self.lambda_iso * self.integration \n",
    "        matrix = np.divide(k_matrix, np.abs(self.omega))\n",
    "        return matrix\n",
    "    \n",
    "    def eigenvalue_prob(self):\n",
    "        eigenvalues, _ = np.linalg.eig(self.matrix)\n",
    "        return eigenvalues\n",
    "    \n",
    "    def max_eigenvalue(self):\n",
    "        return np.max(self.eigenvalues)"
   ]
  },
  {
   "cell_type": "code",
   "execution_count": 3,
   "metadata": {},
   "outputs": [],
   "source": [
    "class ForAvalue(AtTemp):\n",
    "        def __init__(self, a, N, omega_0, matsubara, ng2, eignevalue_limit, T_start, T_steps):\n",
    "        # Initialize with the first value of T to reuse the calculation methods\n",
    "                super().__init__(a, N, omega_0, matsubara, ng2, T_start) # initialize the parent class\n",
    "                self.eignevalue_limit = eignevalue_limit\n",
    "                self.T_start = T_start\n",
    "                self.T_steps = T_steps\n",
    "                self.T_values, self.eigenvalues = self.iter_over_t()\n",
    "\n",
    "        def iter_over_t(self):\n",
    "                eigenvalues = []\n",
    "                T_values = []\n",
    "                eigenvalues.append(self.largest_eigenvalue)\n",
    "                T_values.append(self.T_start)\n",
    "                if self.largest_eigenvalue > self.eignevalue_limit:\n",
    "                    while self.largest_eigenvalue > self.eignevalue_limit:\n",
    "                        self.T_start += self.T_steps\n",
    "                        super().__init__(self.a, self.N, self.omega_0, self.matsubara, self.ng2, self.T_start)\n",
    "                        eigenvalues.append(self.largest_eigenvalue)\n",
    "                        T_values.append(self.T_start)\n",
    "                        #print(f\"The eigenvalue is {self.largest_eigenvalue} for T = {self.T_start}\")\n",
    "                else:\n",
    "                      print(\"The eigenvalue is already smaller than 1\")\n",
    "\n",
    "                return T_values, eigenvalues\n",
    "\n",
    "                "
   ]
  },
  {
   "cell_type": "code",
   "execution_count": 4,
   "metadata": {},
   "outputs": [],
   "source": [
    "omega_0 = 0.05 # phonon frequency\n",
    "ng2 = 0.0144 # coupling strength?\n",
    "\n",
    "#T = 0.00014\n",
    "matsubara = 200\n",
    "a = 0.1\n",
    "N = 2\n",
    "\n",
    "eignevalue_limit = 0.7\n",
    "T_start = 0.00014\n",
    "T_steps = 0.00001"
   ]
  },
  {
   "cell_type": "code",
   "execution_count": 5,
   "metadata": {},
   "outputs": [
    {
     "data": {
      "text/plain": [
       "(0.1, 2, 0.05, 200, 0.0144, 0.00014, 1e-05, 0.7)"
      ]
     },
     "execution_count": 5,
     "metadata": {},
     "output_type": "execute_result"
    }
   ],
   "source": [
    "a, N, omega_0, matsubara, ng2, T_start, T_steps, eignevalue_limit"
   ]
  },
  {
   "cell_type": "code",
   "execution_count": 6,
   "metadata": {},
   "outputs": [],
   "source": [
    "att = ForAvalue(a, N, omega_0, matsubara, ng2, eignevalue_limit, T_start, T_steps)\n"
   ]
  },
  {
   "cell_type": "code",
   "execution_count": 8,
   "metadata": {},
   "outputs": [
    {
     "name": "stdout",
     "output_type": "stream",
     "text": [
      "The largest eigenvalue is (1.3633633675351133+0j) for T = 0.00014\n"
     ]
    }
   ],
   "source": [
    "largest_eigenvalue = np.max(att.eigenvalues)\n",
    "print(f\"The largest eigenvalue is {largest_eigenvalue} for T = {T_start}\")"
   ]
  },
  {
   "cell_type": "code",
   "execution_count": 9,
   "metadata": {},
   "outputs": [
    {
     "name": "stderr",
     "output_type": "stream",
     "text": [
      "/home/pawanprakash/miniconda3/envs/anisotel/lib/python3.10/site-packages/matplotlib/cbook/__init__.py:1298: ComplexWarning: Casting complex values to real discards the imaginary part\n",
      "  return np.asarray(x, float)\n"
     ]
    },
    {
     "data": {
      "image/png": "[encoded data removed]",
      "text/plain": [
       "<Figure size 640x480 with 1 Axes>"
      ]
     },
     "metadata": {},
     "output_type": "display_data"
    }
   ],
   "source": [
    "import matplotlib.pyplot as plt\n",
    "plt.plot(att.T_values, att.eigenvalues)\n",
    "plt.xlabel('Temperature')\n",
    "plt.ylabel('Largest Eigenvalue')\n",
    "plt.title('Largest Eigenvalue vs Temperature')\n",
    "# Add a horizontal line at y=1\n",
    "plt.axhline(y=1.0, color='r', linestyle='--')\n",
    "plt.show()"
   ]
  },
  {
   "cell_type": "code",
   "execution_count": null,
   "metadata": {},
   "outputs": [],
   "source": []
  }
 ],
 "metadata": {
  "kernelspec": {
   "display_name": "anisotel",
   "language": "python",
   "name": "python3"
  },
  "language_info": {
   "codemirror_mode": {
    "name": "ipython",
    "version": 3
   },
   "file_extension": ".py",
   "mimetype": "text/x-python",
   "name": "python",
   "nbconvert_exporter": "python",
   "pygments_lexer": "ipython3",
   "version": "3.10.4"
  }
 },
 "nbformat": 4,
 "nbformat_minor": 2
}
