{
 "cells": [
  {
   "cell_type": "code",
   "execution_count": 1,
   "metadata": {},
   "outputs": [
    {
     "name": "stdout",
     "output_type": "stream",
     "text": [
      "/blue/hennig/pawanprakash/anisotropic_eliash/parallaize_lambda\n"
     ]
    }
   ],
   "source": [
    "import numpy as np\n",
    "import scipy as sp\n",
    "import matplotlib.pyplot as plt\n",
    "import csv\n",
    "import sys\n",
    "\n",
    "import pandas as pd\n",
    "from scipy import integrate\n",
    "from scipy.interpolate import interp1d\n",
    "from scipy.interpolate import CubicSpline\n",
    "\n",
    "import dask\n",
    "from dask_jobqueue import SLURMCluster\n",
    "from dask.distributed import Client\n",
    "import dask.dataframe as dd\n",
    "import time\n",
    "import psutil\n",
    "\n",
    "sys.setrecursionlimit(50000)\n",
    "\n",
    "import os\n",
    "print(os.getcwd())"
   ]
  },
  {
   "cell_type": "code",
   "execution_count": null,
   "metadata": {},
   "outputs": [],
   "source": [
    "@dask.delayed\n",
    "def compute_element(n, m, ωn, alpha2F, omega_val, bin_num):\n",
    "    \"\"\"Compute an element of the matrix based on the provided parameters.\"\"\"\n",
    "    def integrand(ω):\n",
    "        return (2 * ω * alpha2F(ω)) / ((ωn[n] - ωn[m]) ** 2 + ω ** 2)\n",
    "\n",
    "    result, _ = integrate.quad(integrand, omega_val[0], omega_val[-1], limit=bin_num)\n",
    "    return result\n",
    "\n",
    "@dask.delayed\n",
    "def get_unique_elements(ωn, alpha2F, omega_val, bin_num):\n",
    "    \"\"\"Compute unique matrix elements based on the distance from the diagonal.\"\"\"\n",
    "    N = len(ωn)\n",
    "    unique_elements = {}\n",
    "    for dist in range(N):\n",
    "        unique_elements[dist] = compute_element(0, dist, ωn, alpha2F, omega_val, bin_num)\n",
    "    return unique_elements\n",
    "\n",
    "# this fn create the matrix of lambda, but first compute the unique elements(with daskdelay)\n",
    "#@dask.delayed\n",
    "def create_matrix(unique_element):\n",
    "    unique_elements = dask.compute(unique_element)[0]\n",
    "    N = len(unique_elements)\n",
    "    \"\"\"Assign matrix elements based on the unique values and distance from the diagonal.\"\"\"\n",
    "    λ_matrix_delayed = np.empty((N, N), dtype=object)\n",
    "    for i in range(N):\n",
    "        for j in range(i, N):\n",
    "            dist = j - i\n",
    "            λ_matrix_delayed[i, j] = λ_matrix_delayed[j, i] = unique_elements[dist]\n",
    "    return λ_matrix_delayed\n"
   ]
  },
  {
   "cell_type": "code",
   "execution_count": null,
   "metadata": {},
   "outputs": [],
   "source": [
    "# define computing cluster and scale jobs, look at development node resources\n",
    "job_extra = ['--ntasks=8', '--nodes=1', '--qos=hennig-b']\n",
    "cluster = SLURMCluster(cores=1,\n",
    "                           memory='64GB',\n",
    "                           account='hennig',\n",
    "                           queue='hpg-default',\n",
    "                           walltime='15:00:00',\n",
    "                           job_extra_directives= job_extra)\n",
    "\n",
    "client = Client(cluster)\n",
    "\n",
    "number_of_workers = 8\n",
    "cluster.scale(number_of_workers)"
   ]
  },
  {
   "cell_type": "code",
   "execution_count": null,
   "metadata": {},
   "outputs": [],
   "source": [
    "client.wait_for_workers(number_of_workers)"
   ]
  },
  {
   "cell_type": "code",
   "execution_count": null,
   "metadata": {},
   "outputs": [],
   "source": [
    "\n",
    "# coulomb pseudopotential\n",
    "mu = 0.16\n",
    "print(\"mu=\", mu)\n",
    "\n",
    "# load calculated alpha2F\n",
    "# Column names\n",
    "columns = [\"e(THz)\", \"a2F(tot)\", \"a2F(atm1)\", \"a2F(atm2)\", \"...\"]\n",
    "# Read the data and set the column names\n",
    "df = pd.read_csv('./mgb2/040.a2F.dat', delim_whitespace=True, header=None, names=columns, comment='#')\n",
    "# change the units, THz = 0.0041 eV\n",
    "df[\"e(eV)\"] = df[\"e(THz)\"] * 0.0041\n",
    "last_true_index = df['a2F(tot)'].ne(0)[::-1].idxmax()\n",
    "print(\"last_true_index=\", last_true_index)\n",
    "# Truncate the DataFrame up to the last non-zero index\n",
    "df = df.loc[:last_true_index+5, ['e(eV)', 'a2F(tot)']]\n",
    "# first column is omega_val\n",
    "omega_val = df.iloc[:, 0].values\n",
    "# second column is alpha2F_values\n",
    "a2f_val = df.iloc[:, 1].values\n",
    "bin_num = (len(omega_val) - 1)\n",
    "\n",
    "# no of matrubara freq as a multiple of phonon frequency\n",
    "max_ph_freq_index = df.iloc[:, 1].idxmax()\n",
    "print(\"max_ph_freq_index= \", max_ph_freq_index)\n",
    "max_ph_freq = df.iloc[:, 1][max_ph_freq_index]\n",
    "print(\"max_ph_freq= \", max_ph_freq)\n",
    "no_matsu_ph = (max_ph_freq/(np.pi*0.001) - 1)*0.5 # 0.001 is temperature, chosen for convenience\n",
    "no_matsu_ph = int(no_matsu_ph) + 1\n",
    "n = 15*no_matsu_ph # 15 is # here, ie (2*#) * max ph freq is total number of matsubara frequency\n",
    "print(\"n=\", n)\n",
    "m = 2 * n # this is total number of matsubara freq, (2*#) times the max ph\n",
    "print(\"Total no of Matsubara freq=\", m)\n",
    "\n",
    "# components of anisotropy\n",
    "x = np.linspace(0, np.pi/2, m)\n",
    "print(\"size of ak=\", x.shape)\n",
    "akp = np.sin(x)\n",
    "print(\"akp size=\", akp.size)\n",
    "ak = np.sin(x)\n",
    "print(\"ak size=\", ak.size)\n",
    "\n",
    "# initialization\n",
    "#Temp = np.linspace(0.000431, 0.00431, 100)\n",
    "T = 0.0008"
   ]
  },
  {
   "cell_type": "code",
   "execution_count": null,
   "metadata": {},
   "outputs": [],
   "source": [
    "omega_val_shared = client.scatter(omega_val, broadcast=True)\n",
    "a2f_val_shared = client.scatter(a2f_val, broadcast=True)\n",
    "omega = np.asarray([(2 * (-n + i) + 1) * np.pi * T for i in range(m)])\n",
    "print(\"omega_shape=\", omega.shape)"
   ]
  },
  {
   "cell_type": "code",
   "execution_count": null,
   "metadata": {},
   "outputs": [],
   "source": [
    "alpha2F_future = client.submit(compute_spline, omega_val_shared, a2f_val_shared)\n",
    "alpha2F_spline = alpha2F_future.result()"
   ]
  },
  {
   "cell_type": "code",
   "execution_count": null,
   "metadata": {},
   "outputs": [],
   "source": [
    "unique_elements_future = get_unique_elements(omega, alpha2F_spline, omega_val_shared, bin_num)"
   ]
  },
  {
   "cell_type": "code",
   "execution_count": null,
   "metadata": {},
   "outputs": [],
   "source": [
    "λ_matrix = create_matrix(unique_elements_future)"
   ]
  },
  {
   "cell_type": "code",
   "execution_count": null,
   "metadata": {},
   "outputs": [],
   "source": [
    "λ_matrix.shape"
   ]
  }
 ],
 "metadata": {
  "kernelspec": {
   "display_name": "anisotel",
   "language": "python",
   "name": "python3"
  },
  "language_info": {
   "codemirror_mode": {
    "name": "ipython",
    "version": 3
   },
   "file_extension": ".py",
   "mimetype": "text/x-python",
   "name": "python",
   "nbconvert_exporter": "python",
   "pygments_lexer": "ipython3",
   "version": "3.10.4"
  }
 },
 "nbformat": 4,
 "nbformat_minor": 2
}
